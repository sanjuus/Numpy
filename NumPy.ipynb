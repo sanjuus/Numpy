{
  "cells": [
    {
      "cell_type": "markdown",
      "metadata": {
        "id": "38qm4B9loxWs"
      },
      "source": [
        "**What is NUmPy?**\n",
        "\n",
        "NumPy stands for \"Numerical Python\". It is a fundamental python pacakge used to perform Numerical computation. Numpy provides multi-dimensional array object called \"ndarry\" and various function to perform operations on the array."
      ]
    },
    {
      "cell_type": "markdown",
      "metadata": {
        "id": "iTbLOjTWpf7_"
      },
      "source": [
        "**Why NumPy**\n",
        "\n",
        "\n",
        "\n",
        "*   NumPy is 50x faster than the python lists.\n",
        "*   It occupies less space.\n",
        "*   We can perform various operations on numpy arrays.\n",
        "*   It is also used in Machine Learning and Data Science.\n",
        "\n"
      ]
    },
    {
      "cell_type": "markdown",
      "metadata": {
        "id": "d_UV-PS8qLrU"
      },
      "source": [
        "**How to install NumPy?**\n",
        "\n",
        "we can install NumPy from the command prompt by using \"pip\".\n",
        "\n"
      ]
    },
    {
      "cell_type": "code",
      "execution_count": null,
      "metadata": {
        "id": "earodY9vqje8"
      },
      "outputs": [],
      "source": [
        "pip install numpy"
      ]
    },
    {
      "cell_type": "markdown",
      "metadata": {
        "id": "1vugqHzmquzi"
      },
      "source": [
        "**How to import Python?**\n",
        "\n",
        "We can import python with the help of \"import\" keyword."
      ]
    },
    {
      "cell_type": "code",
      "execution_count": null,
      "metadata": {
        "id": "cKun_JPhrFKI"
      },
      "outputs": [],
      "source": [
        "import numpy as np"
      ]
    },
    {
      "cell_type": "markdown",
      "metadata": {
        "id": "F8dOS8EarxR8"
      },
      "source": [
        "# Creating Arrays\n",
        "\n",
        "We can Create arrays in different ways:\n",
        "\n",
        "1. np.array()\n",
        "2. np.arange()\n",
        "3. np.zeros()\n",
        "4. np.ones()\n",
        "5. np.empty()\n",
        "6. np.eye() or np.identity()\n",
        "7. np.inspace()\n",
        "8. np.random.rand()\n",
        "9. np.random.randn()\n",
        "10. np,random.randint()"
      ]
    },
    {
      "cell_type": "code",
      "execution_count": null,
      "metadata": {
        "colab": {
          "base_uri": "https://localhost:8080/"
        },
        "collapsed": true,
        "id": "kW1HaAZfsl7l",
        "outputId": "226e29ab-efd8-4712-d5bb-4f1d609b6577"
      },
      "outputs": [
        {
          "name": "stdout",
          "output_type": "stream",
          "text": [
            "[1 2 3 4]\n",
            "\n",
            "[[1 2 3 4]\n",
            " [1 2 3 4]]\n",
            "\n",
            "[[[ 1  2  3  4]\n",
            "  [ 5  6  7  8]\n",
            "  [ 9 10 11 12]]]\n",
            "[1 2 3 4]\n",
            "\n",
            "[[1 2 3 4]\n",
            " [1 2 3 4]]\n"
          ]
        }
      ],
      "source": [
        "#1. np.array() - we can create arrays with lists and tuples.\n",
        "\n",
        "#lists\n",
        "array_1d = np.array([1,2,3,4])\n",
        "array_2d = np.array([[1,2,3,4],[1,2,3,4]])\n",
        "array_3d = np.array([[[1,2,3,4],[5,6,7,8],[9,10,11,12]]])\n",
        "\n",
        "print(f\"{array_1d}\\n\\n{array_2d}\\n\\n{array_3d}\")\n",
        "\n",
        "\n",
        "#tuples\n",
        "array_11d = np.array((1,2,3,4))\n",
        "array_22d = np.array(((1,2,3,4),(1,2,3,4)))\n",
        "\n",
        "print(f\"{array_11d}\\n\\n{array_22d}\")"
      ]
    },
    {
      "cell_type": "code",
      "execution_count": null,
      "metadata": {
        "colab": {
          "base_uri": "https://localhost:8080/"
        },
        "collapsed": true,
        "id": "FuRHXpLtudlu",
        "outputId": "24eca78a-e529-4ca1-9720-644ed5b6eb02"
      },
      "outputs": [
        {
          "name": "stdout",
          "output_type": "stream",
          "text": [
            "[0 1 2 3 4]\n",
            "[2 3 4 5 6 7 8 9]\n",
            "[1 3 5 7 9]\n",
            "[10  8  6  4  2]\n"
          ]
        }
      ],
      "source": [
        "\"\"\"\n",
        "2. np.arange() - used to create arrays with evenly spaced values. It creates a sequence and only one-dimensional array.\n",
        "\n",
        "syntax:\n",
        "\n",
        "        np.arange(start,stop,step)\n",
        "\n",
        "        start - starts from specified value(inclusive) - default 0\n",
        "        stop  - stops at sepcified value(exclusive)\n",
        "        step  - to determine interval between values - default 1\n",
        "\"\"\"\n",
        "array_1 = np.arange(5)   # 0 - 4\n",
        "array_2 = np.arange(2,10) # 2 - 9\n",
        "array_3 = np.arange(1,10,2)  # 1 - 9 with step 2\n",
        "array_4 = np.arange(10,0,-2)  # 10 - 1 with step -2\n",
        "\n",
        "print(f\"{array_1}\\n{array_2}\\n{array_3}\\n{array_4}\")"
      ]
    },
    {
      "cell_type": "code",
      "execution_count": null,
      "metadata": {
        "colab": {
          "base_uri": "https://localhost:8080/"
        },
        "collapsed": true,
        "id": "9A7gPaF7wh6H",
        "outputId": "08f0e994-f030-4004-d703-2c41da1795df"
      },
      "outputs": [
        {
          "name": "stdout",
          "output_type": "stream",
          "text": [
            "[0. 0. 0. 0. 0.] \n",
            "\n",
            "[[0. 0. 0.]\n",
            " [0. 0. 0.]] \n",
            "\n",
            "[[[0. 0. 0.]\n",
            "  [0. 0. 0.]]\n",
            "\n",
            " [[0. 0. 0.]\n",
            "  [0. 0. 0.]]]\n"
          ]
        }
      ],
      "source": [
        "#3. np.zeros() - used to create arrays with zeros\n",
        "\n",
        "#1d : 5 represnts length of the one-dimension\n",
        "array_1d = np.zeros(5)\n",
        "print(array_1d,\"\\n\")\n",
        "\n",
        "#2d : 2 rows and 3 columns\n",
        "array_2d = np.zeros((2,3))\n",
        "print(array_2d,\"\\n\")\n",
        "\n",
        "#3d : 2 blocks, 2 rows and 3 columns\n",
        "array_3d = np.zeros((2,2,3))\n",
        "print(array_3d)"
      ]
    },
    {
      "cell_type": "code",
      "execution_count": null,
      "metadata": {
        "colab": {
          "base_uri": "https://localhost:8080/"
        },
        "collapsed": true,
        "id": "j4-gfFa1xwp0",
        "outputId": "a6ccb6ce-270a-4cb0-a317-74a87c656c41"
      },
      "outputs": [
        {
          "name": "stdout",
          "output_type": "stream",
          "text": [
            "[1. 1. 1. 1. 1.] \n",
            "\n",
            "[[1. 1. 1.]\n",
            " [1. 1. 1.]] \n",
            "\n",
            "[[[1. 1. 1.]\n",
            "  [1. 1. 1.]]\n",
            "\n",
            " [[1. 1. 1.]\n",
            "  [1. 1. 1.]]]\n",
            "[[1 1 1]\n",
            " [1 1 1]] \n",
            "\n",
            "['1' '1' '1' '1' '1']\n"
          ]
        }
      ],
      "source": [
        "#4. np.ones() - used to create arrays filled with one. In default the data type is float. we can change it using \"dtype\" parameter.\n",
        "\n",
        "#1d : 5 reprsents length of one-dimensional array\n",
        "array_1d = np.ones(5)\n",
        "print(array_1d,\"\\n\")\n",
        "\n",
        "#2d : 2 rows 3 columns\n",
        "array_2d = np.ones((2,3))\n",
        "print(array_2d,\"\\n\")\n",
        "\n",
        "#3d : 2 blocks,2 rows and 3 columns\n",
        "array_3d = np.ones((2,2,3))\n",
        "print(array_3d,\"\\n\")\n",
        "\n",
        "#data type float to int\n",
        "array_type1 = np.ones((2,3),dtype=\"int\")\n",
        "print(array_type1,\"\\n\")\n",
        "\n",
        "array_type2 = np.ones(5,dtype=\"str\")\n",
        "print(array_type2)"
      ]
    },
    {
      "cell_type": "code",
      "execution_count": null,
      "metadata": {
        "colab": {
          "base_uri": "https://localhost:8080/"
        },
        "collapsed": true,
        "id": "zjdADnxbzw4t",
        "outputId": "d0b3dd49-93dd-4a46-9f69-397f58220b80"
      },
      "outputs": [
        {
          "name": "stdout",
          "output_type": "stream",
          "text": [
            "[0.  0.5 1. ] \n",
            "\n",
            "[[1. 1. 1.]\n",
            " [1. 1. 1.]] \n",
            "\n",
            "[[[1. 1. 1.]\n",
            "  [1. 1. 1.]]\n",
            "\n",
            " [[1. 1. 1.]\n",
            "  [1. 1. 1.]]]\n"
          ]
        }
      ],
      "source": [
        "#5. np.empty() - creates a array with garabage values or previously used output.\n",
        "\n",
        "#1d : 3 length of the array\n",
        "array_1d = np.empty(3)\n",
        "print(array_1d,\"\\n\")\n",
        "\n",
        "#2d : 2 rows and 3 columns\n",
        "array_2d = np.empty((2,3))\n",
        "print(array_2d,\"\\n\")\n",
        "\n",
        "#3d : 2 blocks,2 rows and 3 columns\n",
        "array_3d = np.empty((2,2,3))\n",
        "print(array_3d)"
      ]
    },
    {
      "cell_type": "code",
      "execution_count": null,
      "metadata": {
        "colab": {
          "base_uri": "https://localhost:8080/"
        },
        "collapsed": true,
        "id": "EnLTSNa81Pgf",
        "outputId": "6d47c6f7-daaa-4092-ca66-61e23e92d96f"
      },
      "outputs": [
        {
          "name": "stdout",
          "output_type": "stream",
          "text": [
            "[[1. 0. 0.]\n",
            " [0. 1. 0.]\n",
            " [0. 0. 1.]] \n",
            "\n",
            "[[1. 0. 0.]\n",
            " [0. 1. 0.]] \n",
            "\n",
            "[[0. 0. 1. 0. 0.]\n",
            " [0. 0. 0. 1. 0.]\n",
            " [0. 0. 0. 0. 1.]] \n",
            "\n",
            "[[1. 0. 0. 0.]\n",
            " [0. 1. 0. 0.]\n",
            " [0. 0. 1. 0.]\n",
            " [0. 0. 0. 1.]]\n"
          ]
        }
      ],
      "source": [
        "\"\"\"\n",
        "6.\n",
        "np.eye() - creates identity matrix .... diagnoal is filled with 1 and remaining 0.\n",
        "\n",
        "syntax:   np.eye(rows,columns,offest)\n",
        "\n",
        "           rows - number of rows\n",
        "           columns - number of columns\n",
        "           offset - diagnol offset. It tells which diagnoal to be filled with 1. If it is 0 then the main diagnoal.\n",
        "\"\"\"\n",
        "\n",
        "array_1 = np.eye(3)\n",
        "print(array_1,\"\\n\")\n",
        "\n",
        "array_2 = np.eye(2,3)\n",
        "print(array_2,\"\\n\")\n",
        "\n",
        "array_3 = np.eye(3,5,2)\n",
        "print(array_3,\"\\n\")\n",
        "\n",
        "\n",
        "#np.identity - It is also same as np.eye() but only craetes square martrix.\n",
        "\n",
        "array_4 = np.identity(4)\n",
        "print(array_4)"
      ]
    },
    {
      "cell_type": "code",
      "execution_count": null,
      "metadata": {
        "colab": {
          "base_uri": "https://localhost:8080/"
        },
        "collapsed": true,
        "id": "VU7-RBi13w5B",
        "outputId": "6d22ae9c-244d-4e1d-9b67-9d927b5d480f"
      },
      "outputs": [
        {
          "name": "stdout",
          "output_type": "stream",
          "text": [
            "[ 1.    3.25  5.5   7.75 10.  ] \n",
            "\n",
            "[ 1.          1.47368421  1.94736842  2.42105263  2.89473684  3.36842105\n",
            "  3.84210526  4.31578947  4.78947368  5.26315789  5.73684211  6.21052632\n",
            "  6.68421053  7.15789474  7.63157895  8.10526316  8.57894737  9.05263158\n",
            "  9.52631579 10.        ] \n",
            "\n",
            "[20.   20.25 20.5  20.75 21.  ] \n",
            "\n",
            "[1.  2.5 4.  5.5 7.  8.5]\n"
          ]
        }
      ],
      "source": [
        "\"\"\"\n",
        "7. np.linspace() - np.linspace() creates an array of evenly spaced numbers between a start and stop value — you specify how many values you want.only craetes one-dimensional array.\n",
        "\n",
        "synatx:  linspace(start,stop,num=10)\n",
        "\n",
        "          start - starting value(inclusive)\n",
        "          stop - ending value(inclusive)\n",
        "          num - specify the length you want.\n",
        "\"\"\"\n",
        "array_1 = np.linspace(1,10,num=5)\n",
        "print(array_1,\"\\n\")\n",
        "\n",
        "array_2 = np.linspace(1,10,num=20)\n",
        "print(array_2,\"\\n\")\n",
        "\n",
        "array_3 = np.linspace(20,21,num=5)\n",
        "print(array_3,\"\\n\")\n",
        "\n",
        "array_4 = np.linspace(1,10,num=6,endpoint=False)  #to exclude stop\n",
        "print(array_4)"
      ]
    },
    {
      "cell_type": "code",
      "execution_count": null,
      "metadata": {
        "colab": {
          "base_uri": "https://localhost:8080/"
        },
        "collapsed": true,
        "id": "JODz2Sed5t2v",
        "outputId": "a8822f67-7796-416b-d049-607cddf72b22"
      },
      "outputs": [
        {
          "name": "stdout",
          "output_type": "stream",
          "text": [
            "[0.02057751 0.23403929 0.09014218 0.15096338 0.46072443] \n",
            "\n",
            "[[6.81883101e-01 3.79857603e-04 5.47792538e-02]\n",
            " [2.35901695e-01 3.65029064e-01 7.06350242e-01]] \n",
            "\n",
            "[[[0.99165283 0.78475506 0.3872652 ]\n",
            "  [0.63672479 0.8213459  0.76429759]]\n",
            "\n",
            " [[0.24387832 0.99296432 0.33020668]\n",
            "  [0.40194717 0.33825963 0.87736688]]]\n"
          ]
        }
      ],
      "source": [
        "#8. np.random.rand() - generates numbers between 0 (inclusive) and 1 (exclusive).  - (uniform distribution)\n",
        "\n",
        "#1d : 5 is the length\n",
        "array_1d = np.random.rand(5)\n",
        "print(array_1d,\"\\n\")\n",
        "\n",
        "#2d : 2 rows 3 columns\n",
        "array_2d = np.random.rand(2,3)\n",
        "print(array_2d,\"\\n\")\n",
        "\n",
        "#3d : 2 blocks,2 rows and 3 columns\n",
        "array_3d = np.random.rand(2,2,3)\n",
        "print(array_3d)"
      ]
    },
    {
      "cell_type": "code",
      "execution_count": null,
      "metadata": {
        "colab": {
          "base_uri": "https://localhost:8080/"
        },
        "collapsed": true,
        "id": "fgADgeeC7C3-",
        "outputId": "5798a12d-02df-4580-c402-97009e2258ac"
      },
      "outputs": [
        {
          "name": "stdout",
          "output_type": "stream",
          "text": [
            "[-1.99349655 -0.41201834 -0.43666793 -0.97015638 -2.67947691] \n",
            "\n",
            "[[ 1.30425548 -1.59405566 -0.90596073]\n",
            " [ 1.30684697 -0.77592817  0.55637143]] \n",
            "\n",
            "[[[-0.41939884  0.83671562  0.278631  ]\n",
            "  [ 0.94570346  0.920174   -0.34873808]]\n",
            "\n",
            " [[ 0.73134166 -0.1373518  -0.21575124]\n",
            "  [ 0.18908374  1.70625478  0.87049548]]]\n"
          ]
        }
      ],
      "source": [
        "#9. np.random.randn() - It generates values near to 0 either postive or negative. (Gaussian distribution)\n",
        "\n",
        "#1d : 5 is the length\n",
        "array_1d = np.random.randn(5)\n",
        "print(array_1d,\"\\n\")\n",
        "\n",
        "#2d : 2 rows 3 columns\n",
        "array_2d = np.random.randn(2,3)\n",
        "print(array_2d,\"\\n\")\n",
        "\n",
        "#3d : 2 blocks,2 rows and 3 columns\n",
        "array_3d = np.random.randn(2,2,3)\n",
        "print(array_3d)"
      ]
    },
    {
      "cell_type": "code",
      "execution_count": null,
      "metadata": {
        "colab": {
          "base_uri": "https://localhost:8080/"
        },
        "id": "tnswugtC8TnB",
        "outputId": "fb541669-7119-4fe8-f46c-9b4830615e55"
      },
      "outputs": [
        {
          "name": "stdout",
          "output_type": "stream",
          "text": [
            "0 \n",
            "\n",
            "[3 4 3 3 0] \n",
            "\n",
            "[45 59 53 59 49 53 49 48 50 61] \n",
            "\n",
            "[[30 44 42]\n",
            " [12 37 15]]\n"
          ]
        }
      ],
      "source": [
        "\"\"\"\n",
        "10. np.random.randint()  - It generates values in specified range.\n",
        "\n",
        "syntax:    randint(start,stop,size=5)\n",
        "\n",
        "           start - starting value(inclusive)\n",
        "           stop - ending value(exclusive)\n",
        "           size - It is optional and determines the size of array\n",
        "\n",
        "\"\"\"\n",
        "\n",
        "array_1 = np.random.randint(5)   #  a single integer between 0 - 4\n",
        "print(array_1,\"\\n\")\n",
        "\n",
        "array_2 = np.random.randint(10,size=5)\n",
        "print (array_2,\"\\n\")\n",
        "\n",
        "array_3 = np.random.randint(41,62,size=10)\n",
        "print(array_3,\"\\n\")\n",
        "\n",
        "array_4 = np.random.randint(1,100,size=(2,3))\n",
        "print(array_4)"
      ]
    },
    {
      "cell_type": "markdown",
      "metadata": {
        "id": "WYLS1hlVhmac"
      },
      "source": [
        "# Array Data Types\n",
        "\n",
        "1.   Data Types in Numpy\n",
        "2.   dtype parameter\n",
        "3.   .dtype attribute\n",
        "4.   Type conversion : astype() method\n",
        "\n"
      ]
    },
    {
      "cell_type": "markdown",
      "metadata": {
        "id": "GsVpnxy_i6t8"
      },
      "source": [
        "1. Data Types in Numpy\n",
        "\n",
        "Numpy supports different data types. They are:\n",
        "\n",
        "Integers: int8, int16, int32, int64\n",
        "\n",
        "Unsigned Integers: uint8, uint16, etc.\n",
        "\n",
        "Floats: float16, float32, float64\n",
        "\n",
        "Complex Numbers: complex64, complex128\n",
        "\n",
        "Boolean: bool_\n",
        "\n",
        "Strings: str_, unicode_ (U)\n",
        "\n",
        "Objects: object_\n",
        "\n",
        "Datetime: datetime64\n",
        "\n",
        "Timedelta: timedelta64"
      ]
    },
    {
      "cell_type": "code",
      "execution_count": null,
      "metadata": {
        "colab": {
          "base_uri": "https://localhost:8080/"
        },
        "collapsed": true,
        "id": "5mqQbgijjcAq",
        "outputId": "41a2ff17-dd50-49cd-add2-6f7e810cf692"
      },
      "outputs": [
        {
          "name": "stdout",
          "output_type": "stream",
          "text": [
            "[1. 2. 3. 4.] \n",
            "\n",
            "[['1' '1' '1']\n",
            " ['1' '1' '1']]\n"
          ]
        }
      ],
      "source": [
        "#2. dtype parameter  - used to determine the type of the data to be stored in an array.\n",
        "\n",
        "import numpy as np\n",
        "\n",
        "array_1 = np.array([1,2,3,4],dtype=\"float32\")\n",
        "print(array_1,\"\\n\")\n",
        "\n",
        "array_2 = np.ones((2,3),dtype=\"str\")\n",
        "print(array_2)"
      ]
    },
    {
      "cell_type": "code",
      "execution_count": null,
      "metadata": {
        "colab": {
          "base_uri": "https://localhost:8080/"
        },
        "collapsed": true,
        "id": "WHbnXycglOtl",
        "outputId": "7a69f680-9de7-4970-b609-4e8207c66ae8"
      },
      "outputs": [
        {
          "name": "stdout",
          "output_type": "stream",
          "text": [
            "int64 \n",
            "\n",
            "float64\n"
          ]
        }
      ],
      "source": [
        "#3.  .dtype attribute - used to check the type of data stored in an array.\n",
        "\n",
        "array_1 = np.array([1,2,3,4])\n",
        "print(array_1.dtype,\"\\n\")\n",
        "\n",
        "array_2 = np.ones((2,3))\n",
        "print(array_2.dtype)"
      ]
    },
    {
      "cell_type": "code",
      "execution_count": null,
      "metadata": {
        "colab": {
          "base_uri": "https://localhost:8080/"
        },
        "id": "JCwAkp10lnev",
        "outputId": "afa6ea76-2998-4aae-ae3b-9c394c034627"
      },
      "outputs": [
        {
          "name": "stdout",
          "output_type": "stream",
          "text": [
            "First Array\n",
            "\n",
            "float64\n",
            "[1 2 4]\n",
            "int64\n",
            "Second array\n",
            "\n",
            "int64\n",
            "['1' '2' '3' '4']\n",
            "<U21\n"
          ]
        }
      ],
      "source": [
        "#4. Type conversion - We use astype() method to convert the type of a data in an array.\n",
        "\n",
        "print(\"First Array\\n\")\n",
        "\n",
        "array_1 = np.array([1.1,2.3,4.6])\n",
        "print(array_1.dtype)\n",
        "convert_array_1 = array_1.astype('int')\n",
        "print(convert_array_1)\n",
        "print(convert_array_1.dtype)\n",
        "\n",
        "\n",
        "print(\"Second array\\n\")\n",
        "\n",
        "array_2 = np.array([1,2,3,4])\n",
        "print(array_2.dtype)\n",
        "convert_array_2 = array_2.astype('str')\n",
        "print(convert_array_2)\n",
        "print(convert_array_2.dtype)"
      ]
    },
    {
      "cell_type": "markdown",
      "metadata": {
        "id": "w9ZFCq_z0xns"
      },
      "source": [
        "# Array Indexing and Slicing\n",
        "\n",
        "\n",
        "\n",
        "1.   Basic slicing\n",
        "2.   array Indexing\n",
        "3.   Boolean Indexing\n",
        "4.   Fancy Indexing\n",
        "5.   combination of slicing and indexing\n"
      ]
    },
    {
      "cell_type": "code",
      "execution_count": null,
      "metadata": {
        "colab": {
          "base_uri": "https://localhost:8080/"
        },
        "collapsed": true,
        "id": "4tZ-XdbE1TNv",
        "outputId": "d639d60d-707e-41ee-8d76-90ba957c9f8a"
      },
      "outputs": [
        {
          "name": "stdout",
          "output_type": "stream",
          "text": [
            "[ 10  20  30  40  50  60  70  80  90 100] \n",
            "\n",
            "[10 20 30 40 50 60 70] \n",
            "\n",
            "[ 40  50  60  70  80  90 100] \n",
            "\n",
            "[40 60 80] \n",
            "\n",
            "[ 10  40  70 100] \n",
            "\n",
            "[ 10  20  30  40  50  60  70  80  90 100] \n",
            "\n",
            "[100  90  80  70  60  50]\n"
          ]
        }
      ],
      "source": [
        "\"\"\"\n",
        "1. Baisc Slicing - we use slicing to get the specified range of elemets and subarrays.It is only applies for one-dimensioanl arrays.\n",
        "\n",
        "Syntax:   array[start:stop:step]\n",
        "\n",
        "          start - starting index (inclusive) - defalut 0\n",
        "          stop - ending index (exclusive)\n",
        "          step - steps to jump - default 1\n",
        "\"\"\"\n",
        "import numpy as np\n",
        "\n",
        "array = np.array([10,20,30,40,50,60,70,80,90,100])\n",
        "print(array,\"\\n\")\n",
        "\n",
        "#without start and step\n",
        "print(array[:7],\"\\n\")    # index 0 - 6\n",
        "\n",
        "#without stop and step\n",
        "print(array[3:],\"\\n\")\n",
        "\n",
        "#with start,stop and step\n",
        "print(array[3:8:2],\"\\n\")\n",
        "\n",
        "#without start and stop\n",
        "print(array[::3],\"\\n\")\n",
        "\n",
        "#without start, stop and jump\n",
        "print(array[::],\"\\n\")\n",
        "\n",
        "#negative slicing              #start index > stop index\n",
        "print(array[-1:-7:-1])\n"
      ]
    },
    {
      "cell_type": "code",
      "execution_count": null,
      "metadata": {
        "colab": {
          "base_uri": "https://localhost:8080/"
        },
        "collapsed": true,
        "id": "Re195ZOo7HL6",
        "outputId": "3b0212f8-e52a-4af2-9aa1-8dff5812f80c"
      },
      "outputs": [
        {
          "name": "stdout",
          "output_type": "stream",
          "text": [
            "one dimension:\n",
            "\n",
            " [ 1  2  3  4  5  6  7  8  9 10] \n",
            "\n",
            "6 \n",
            "\n",
            "10 \n",
            "\n",
            "7\n",
            "Two Dimension:\n",
            "\n",
            " [[1 2 3]\n",
            " [4 5 6]\n",
            " [7 8 9]] \n",
            "\n",
            "6\n"
          ]
        }
      ],
      "source": [
        "\"\"\"\n",
        "2. Array Indexing - Accessing specific elements by tehir positions.\n",
        "\n",
        "    We use single integer for a 1D array\n",
        "    we use comma seperated tuple for a 2D or more.\n",
        "\"\"\"\n",
        "\n",
        "#1d :  array[index]\n",
        "\n",
        "print(\"one dimension:\")\n",
        "array_1d = np.array([1,2,3,4,5,6,7,8,9,10])\n",
        "print(\"\\n\",array_1d,\"\\n\")\n",
        "\n",
        "print(array_1d[5],\"\\n\")\n",
        "\n",
        "print(array_1d[len(array_1d)-1],\"\\n\")\n",
        "\n",
        "print(array_1d[2*3])\n",
        "\n",
        "\n",
        "#2d : array[row,col]\n",
        "\n",
        "print(\"Two Dimension:\")\n",
        "\n",
        "array_2d = np.array([[1,2,3],\n",
        "            [4,5,6],\n",
        "            [7,8,9]])\n",
        "print(\"\\n\",array_2d,\"\\n\")\n",
        "\n",
        "print(array_2d[1,2])\n",
        "\n"
      ]
    },
    {
      "cell_type": "code",
      "execution_count": null,
      "metadata": {
        "colab": {
          "base_uri": "https://localhost:8080/"
        },
        "collapsed": true,
        "id": "9zCVZhWE_Ybf",
        "outputId": "37a03675-79c3-497c-9ff1-aa78015fa1fb"
      },
      "outputs": [
        {
          "name": "stdout",
          "output_type": "stream",
          "text": [
            "[ 50  60  65  70  80  85  90 100]\n",
            "[ 10  20  30  40  50  60  70  80  90 100]\n",
            "[15 25 65 85]\n"
          ]
        }
      ],
      "source": [
        "\"\"\"\n",
        "3. Boolean Indexing - using condition get access of elements. It selects all the elements in the array which satisfies the condition.\n",
        "\n",
        "syntax:   array[condition]\n",
        "\"\"\"\n",
        "\n",
        "array_1d =np.array([10,15,20,25,30,40,50,60,65,70,80,85,90,100])\n",
        "\n",
        "print(array_1d[array_1d >40])    #elements greater than 40\n",
        "\n",
        "print(array_1d[array_1d%2==0])  #even numbers\n",
        "\n",
        "print(array_1d[array_1d%2!=0])  #odd numbers"
      ]
    },
    {
      "cell_type": "code",
      "execution_count": null,
      "metadata": {
        "colab": {
          "base_uri": "https://localhost:8080/"
        },
        "collapsed": true,
        "id": "ZnYkO8YIDqT9",
        "outputId": "27f373bc-abea-4553-e1c1-1e91c91fa9f9"
      },
      "outputs": [
        {
          "name": "stdout",
          "output_type": "stream",
          "text": [
            "[40]\n",
            "[ 60 100  30]\n",
            "[8 3 9]\n"
          ]
        }
      ],
      "source": [
        "#4.Fancy Indexing - we directly we indices to access the multiple elements in the array\n",
        "\n",
        "#1d:  array[index1,index2,etc]\n",
        "\n",
        "array_1d = np.array([10,20,30,40,50,60,70,80,90,100])\n",
        "\n",
        "print(array_1d[[3]])\n",
        "\n",
        "print(array_1d[[5,9,2]])\n",
        "\n",
        "#2d : array[[index,index,etc],[index,index,etc]]\n",
        "\n",
        "array_2d = np.array([[1,2,3,4],\n",
        "                    [5,6,7,8],\n",
        "                    [9,10,11,12]])\n",
        "\n",
        "print(array_2d[[1,0,2],[3,2,0]])   #(1,3),(0,2),(2,0)\n"
      ]
    },
    {
      "cell_type": "code",
      "execution_count": null,
      "metadata": {
        "colab": {
          "base_uri": "https://localhost:8080/"
        },
        "id": "tNJcca7IFVBx",
        "outputId": "c2045a86-6a24-420c-ae7d-5a3a156c0a12"
      },
      "outputs": [
        {
          "name": "stdout",
          "output_type": "stream",
          "text": [
            "[ 30  70 110 150]\n",
            "[110 150]\n",
            "[[100]]\n"
          ]
        }
      ],
      "source": [
        "#5. Combination of slicing and indexing\n",
        "# array[rows,columns]\n",
        "\n",
        "array = np.array([[10,20,30,40],\n",
        "                  [50,60,70,80],\n",
        "                  [90,100,110,120],\n",
        "                  [130,140,150,160]])\n",
        "\n",
        "print(array[:,2])\n",
        "\n",
        "print(array[2:,2])\n",
        "\n",
        "print(array[2:3,1:2])"
      ]
    },
    {
      "cell_type": "markdown",
      "metadata": {
        "id": "igeCJo6yzmOB"
      },
      "source": [
        "# Array Shape and Reshaping\n",
        "\n",
        "1. .shape\n",
        "2. .ndim\n",
        "3. .size\n",
        "4. reshape()\n",
        "5. flatten() vs ravel()\n",
        "6. transpose() and .T\n",
        "7. expand_dims(), squeeze()"
      ]
    },
    {
      "cell_type": "code",
      "execution_count": null,
      "metadata": {
        "colab": {
          "base_uri": "https://localhost:8080/"
        },
        "collapsed": true,
        "id": "G5wYnD3lz_2S",
        "outputId": "bdb47a67-1db0-43b3-d88e-867dc36cd4d3"
      },
      "outputs": [
        {
          "name": "stdout",
          "output_type": "stream",
          "text": [
            "(5,)\n",
            "(3, 4)\n",
            "[[[0. 0. 0.]\n",
            "  [0. 0. 0.]]\n",
            "\n",
            " [[0. 0. 0.]\n",
            "  [0. 0. 0.]]]\n",
            "(2, 2, 3)\n"
          ]
        }
      ],
      "source": [
        "#1.  .shape - It is an attribute used to find the shape of an array and it returns a shape on tuple\n",
        "\n",
        "import numpy as np\n",
        "\n",
        "#1d : (5,)\n",
        "array_1d = np.arange(1,6)\n",
        "print(array_1d.shape)\n",
        "\n",
        "#2d : (3,4)\n",
        "array_2d = np.ones((3,4))\n",
        "print(array_2d.shape)\n",
        "\n",
        "#3d : (2,2,3)\n",
        "array_3d = np.zeros((2,2,3))\n",
        "print(array_3d.shape)"
      ]
    },
    {
      "cell_type": "code",
      "execution_count": null,
      "metadata": {
        "colab": {
          "base_uri": "https://localhost:8080/"
        },
        "collapsed": true,
        "id": "m3XhBSL82iOz",
        "outputId": "30d5eb97-9fb8-4c82-cc01-cacf94c92132"
      },
      "outputs": [
        {
          "name": "stdout",
          "output_type": "stream",
          "text": [
            "1\n",
            "2\n",
            "3\n"
          ]
        }
      ],
      "source": [
        "#2. .ndim - To find the dimension of an array\n",
        "\n",
        "#1d:\n",
        "array_1d = np.array([1,2,3,4,5,])\n",
        "print(array_1d.ndim)\n",
        "\n",
        "#2d:\n",
        "array_2d = np.array([[1,2,3,4],[5,6,7,8]])\n",
        "print(array_2d.ndim)\n",
        "\n",
        "#3d:\n",
        "array_3d = np.array([[[1,2,3,4],\n",
        "                      [5,6,7,8]]])\n",
        "print(array_3d.ndim)"
      ]
    },
    {
      "cell_type": "code",
      "execution_count": null,
      "metadata": {
        "colab": {
          "base_uri": "https://localhost:8080/"
        },
        "collapsed": true,
        "id": "uhnzxfw33WJl",
        "outputId": "0a74db79-9d43-4eb4-8d36-c932dabd3496"
      },
      "outputs": [
        {
          "name": "stdout",
          "output_type": "stream",
          "text": [
            "33\n",
            "12\n",
            "60\n"
          ]
        }
      ],
      "source": [
        "#3.  .size - It returns total number of elements in anarray irrespective of the dimensions.\n",
        "\n",
        "#1d:\n",
        "array_1d = np.arange(1,34)\n",
        "print(array_1d.size)\n",
        "\n",
        "#2d:\n",
        "array_2d = np.ones((3,4))\n",
        "print(array_2d.size)\n",
        "\n",
        "#3d:\n",
        "array_3d = np.zeros((3,4,5))\n",
        "print(array_3d.size)"
      ]
    },
    {
      "cell_type": "code",
      "execution_count": null,
      "metadata": {
        "colab": {
          "base_uri": "https://localhost:8080/"
        },
        "collapsed": true,
        "id": "K1Yyjrr14nft",
        "outputId": "96c1b869-63a9-45e1-e618-d87aed911f60"
      },
      "outputs": [
        {
          "name": "stdout",
          "output_type": "stream",
          "text": [
            "One dimension to two dimension\n",
            "\n",
            "[1 2 3 4 5 6]\n",
            "dim :  1\n",
            "shape :  (6,)\n",
            "After Reshape:\n",
            "\n",
            "[[1 2 3]\n",
            " [4 5 6]]\n",
            "dim :  2\n",
            "shape :  (2, 3)\n",
            "\n",
            "Two dimension to one dimension\n",
            "[[1 2 3 4]\n",
            " [5 6 7 8]]\n",
            "dim :  2\n",
            "shape :  (2, 4)\n",
            "After Reshape:\n",
            "\n",
            "[1 2 3 4 5 6 7 8]\n",
            "dim :  1\n",
            "shape :  (8,)\n",
            "\n",
            "Two dimension to three dimension\n",
            "\n",
            "[[1 1 1 1]\n",
            " [1 1 1 1]\n",
            " [1 1 1 1]] \n",
            "\n",
            "[[[1 1 1]\n",
            "  [1 1 1]]\n",
            "\n",
            " [[1 1 1]\n",
            "  [1 1 1]]]\n"
          ]
        }
      ],
      "source": [
        "#4. reshape() - It is used to reshape the array from one shape to another without changing the data in the array. The total number of elements must stay the same.\n",
        "\n",
        "print(\"One dimension to two dimension\\n\")\n",
        "\n",
        "a = np.array([1,2,3,4,5,6])\n",
        "print(a)\n",
        "print(\"dim : \",a.ndim)\n",
        "print(\"shape : \",a.shape)\n",
        "\n",
        "print(\"After Reshape:\\n\")\n",
        "\n",
        "b = a.reshape((2,3))\n",
        "print(b)\n",
        "print(\"dim : \",b.ndim)\n",
        "print(\"shape : \",b.shape)\n",
        "\n",
        "\n",
        "print(\"\\nTwo dimension to one dimension\")\n",
        "c = np.array([[1,2,3,4],[5,6,7,8]])\n",
        "print(c)\n",
        "print(\"dim : \",c.ndim)\n",
        "print(\"shape : \",c.shape)\n",
        "\n",
        "print(\"After Reshape:\\n\")\n",
        "d = c.reshape(8)\n",
        "print(d)\n",
        "print(\"dim : \",d.ndim)\n",
        "print(\"shape : \",d.shape)\n",
        "\n",
        "print(\"\\nTwo dimension to three dimension\\n\")\n",
        "array_2d = np.ones((3,4),dtype=\"int\")\n",
        "print(array_2d,\"\\n\")\n",
        "\n",
        "reshape_array_2d = array_2d.reshape((2,2,3))\n",
        "print(reshape_array_2d)\n"
      ]
    },
    {
      "cell_type": "code",
      "execution_count": null,
      "metadata": {
        "colab": {
          "base_uri": "https://localhost:8080/"
        },
        "collapsed": true,
        "id": "BrZ0xWG58ywM",
        "outputId": "a2b8dd7b-8c3c-4290-d3e8-ba5e0beb8c78"
      },
      "outputs": [
        {
          "name": "stdout",
          "output_type": "stream",
          "text": [
            "Flatten Array:\n",
            "  [10  2  3  4  5  6  7  8  9]\n",
            "\n",
            "Ravel Araray:\n",
            " [20  2  3  4  5  6  7  8  9]\n",
            "\n",
            "Original Array:\n",
            " [[20  2  3]\n",
            " [ 4  5  6]\n",
            " [ 7  8  9]]\n"
          ]
        }
      ],
      "source": [
        "#5.flatten() vs ravel()\n",
        "\n",
        "\"\"\"\n",
        "flatten()                                                                       ravel()\n",
        "\n",
        "i.    faltten() converts different dimensions arrays to 1D array.               i.    ravel() converts different dimensions arrays to 1D array.\n",
        "ii.   It returns a copy.                                                        ii.   It returns the view only not copy.\n",
        "iii.  Changes in copied array doesn't affect original array.                    iii.  Changes reflect in original array.\n",
        "\"\"\"\n",
        "\n",
        "array = np.array([[1,2,3],\n",
        "                  [4,5,6],\n",
        "                  [7,8,9]])\n",
        "\n",
        "flatten_array = array.flatten()\n",
        "ravel_array = array.ravel()\n",
        "\n",
        "flatten_array[0] = 10     #doesn't affect on original array\n",
        "ravel_array[0] = 20       #affects on original array\n",
        "\n",
        "print(\"Flatten Array:\\n \",flatten_array)\n",
        "print(\"\\nRavel Araray:\\n\",ravel_array)\n",
        "print(\"\\nOriginal Array:\\n\",array)"
      ]
    },
    {
      "cell_type": "code",
      "execution_count": null,
      "metadata": {
        "colab": {
          "base_uri": "https://localhost:8080/"
        },
        "id": "3ZyQ44L8Cnr2",
        "collapsed": true,
        "outputId": "99fb375a-ff2a-445b-8a56-b779796757b5"
      },
      "outputs": [
        {
          "output_type": "stream",
          "name": "stdout",
          "text": [
            "Two Dimensional array\n",
            "\n",
            "Using .T:\n",
            " [[1 4 7]\n",
            " [2 5 8]\n",
            " [3 6 9]]\n",
            "Using transpose():\n",
            " [[1 4 7]\n",
            " [2 5 8]\n",
            " [3 6 9]]\n",
            "\n",
            "Three Dimensional array\n",
            "\n",
            "Using .T:\n",
            " [[[ 1  7]\n",
            "  [ 4 10]]\n",
            "\n",
            " [[ 2  8]\n",
            "  [ 5 11]]\n",
            "\n",
            " [[ 3  9]\n",
            "  [ 6 12]]]\n",
            "Using transpose():\n",
            " [[[ 1  7]\n",
            "  [ 4 10]]\n",
            "\n",
            " [[ 2  8]\n",
            "  [ 5 11]]\n",
            "\n",
            " [[ 3  9]\n",
            "  [ 6 12]]]\n",
            "usimg transpose() custom : \n",
            " [[[ 1  7]\n",
            "  [ 2  8]\n",
            "  [ 3  9]]\n",
            "\n",
            " [[ 4 10]\n",
            "  [ 5 11]\n",
            "  [ 6 12]]]\n"
          ]
        }
      ],
      "source": [
        "#6.  .T and transpose()\n",
        "\"\"\"\n",
        ".T  - It is an attribute used to reverse the axis. It is mostly used to 2D arrays as well as other dimensions if we only want to reverse the axis.\n",
        "transpose() - Transpose is a method same as .T but the difference we can make custom axis with the help of transpose() method.\n",
        "\n",
        "     In transpose - layers or depth = 0\n",
        "                    rows = 1\n",
        "                    columns = 2\n",
        "\"\"\"\n",
        "\n",
        "print(\"Two Dimensional array\\n\")\n",
        "array_2d = np.array([[1,2,3],\n",
        "                    [4,5,6],\n",
        "                    [7,8,9]])\n",
        "\n",
        "print(\"Using .T:\\n\",array_2d.T)\n",
        "print(\"Using transpose():\\n\",array_2d.transpose())\n",
        "\n",
        "\n",
        "print(\"\\nThree Dimensional array\\n\")\n",
        "array_3d = np.array([\n",
        "    [[1,2,3],[4,5,6]],\n",
        "    [[7,8,9],[10,11,12]]])\n",
        "print(\"Using .T:\\n\",array_3d.T)\n",
        "print(\"Using transpose():\\n\",array_3d.transpose())\n",
        "print(\"usimg transpose() custom : \\n\",array_3d.transpose(1,2,0))\n",
        "\n",
        "\n"
      ]
    },
    {
      "cell_type": "markdown",
      "source": [
        "# Mathematical Operations\n",
        "\n",
        "\n",
        "\n",
        "1.Element-wise:\n",
        "\n",
        "     A. addition\n",
        "     B. subtarction\n",
        "     C. multiplication\n",
        "     D. Divison\n",
        "\n",
        "2.Exponentials:\n",
        "\n",
        "     A. np.exp()\n",
        "     B. np.power()\n",
        "\n",
        "3.Trignometry:\n",
        "\n",
        "     A.np.sin()\n",
        "     B.np.cos()\n",
        "     etc,...\n",
        "  \n",
        "4.Rounding:\n",
        "\n",
        "     A. np.round()\n",
        "     B. np.floor()\n",
        "     C. np.ceil()\n",
        "     D.np.trunc()\n"
      ],
      "metadata": {
        "id": "K3aSrdlP2Qr7"
      }
    },
    {
      "cell_type": "code",
      "source": [
        "#1. Element-wise operations  - To do a elemet-wise operation. The shape and size of the arrays must be the same\n",
        "\n",
        "#1d array:\n",
        "import numpy as np\n",
        "\n",
        "print(\"One-Dimensional Array:\")\n",
        "\n",
        "a = np.array([1,2,3,4])\n",
        "b = np.array([5,6,7,8])\n",
        "\n",
        "#addition\n",
        "print(np.add(a,b))\n",
        "\n",
        "#subtraction\n",
        "print(np.subtract(a,b))\n",
        "\n",
        "#multiply\n",
        "print(np.multiply(a,b))\n",
        "\n",
        "#divison\n",
        "print(np.divide(a,b))\n",
        "\n",
        "\n",
        "#2d:\n",
        "print(\"Two Dimenisoanl Array:\\n\")\n",
        "\n",
        "a2 = np.array([[1,2,3,4],\n",
        "               [5,6,7,8]])\n",
        "b2 = np.array([[9,10,11,12],\n",
        "               [13,14,15,16]])\n",
        "\n",
        "print(np.add(a2,b2))\n",
        "print(np.subtract(a2,b2))\n",
        "print(np.multiply(a2,b2))\n",
        "print(np.divide(a2,b2))\n",
        "\n",
        "\n"
      ],
      "metadata": {
        "colab": {
          "base_uri": "https://localhost:8080/"
        },
        "collapsed": true,
        "id": "3EJdkC6C2U_X",
        "outputId": "4d64c866-ad2e-4ab8-b2e5-992e3dca925b"
      },
      "execution_count": null,
      "outputs": [
        {
          "output_type": "stream",
          "name": "stdout",
          "text": [
            "One-Dimensional Array:\n",
            "[ 6  8 10 12]\n",
            "[-4 -4 -4 -4]\n",
            "[ 5 12 21 32]\n",
            "[0.2        0.33333333 0.42857143 0.5       ]\n",
            "Two Dimenisoanl Array:\n",
            "\n",
            "[[10 12 14 16]\n",
            " [18 20 22 24]]\n",
            "[[-8 -8 -8 -8]\n",
            " [-8 -8 -8 -8]]\n",
            "[[  9  20  33  48]\n",
            " [ 65  84 105 128]]\n",
            "[[0.11111111 0.2        0.27272727 0.33333333]\n",
            " [0.38461538 0.42857143 0.46666667 0.5       ]]\n"
          ]
        }
      ]
    },
    {
      "cell_type": "code",
      "source": [
        "#exponentials - we use these functions to calculate expoenntials and powers\n",
        "\n",
        "\"\"\"\n",
        "A. np.expe()\n",
        "\n",
        "   synatx: np.exp(x)\n",
        "\n",
        "            It takes single input x that is an array\n",
        "            It calculates e power x .... where e ~ 2.71828\n",
        "\n",
        "\"\"\"\n",
        "\n",
        "#1d :\n",
        "print(\"One Dimensional Array:\")\n",
        "\n",
        "array_1d = np.array([1,2,3,4])\n",
        "\n",
        "print(np.exp(array_1d))\n",
        "\n",
        "#2d :\n",
        "print(\"\\nTwo Dimensioanl Array:\")\n",
        "\n",
        "array_2d = np.array([[1,2,3,4],\n",
        "                     [5,6,7,8]])\n",
        "print(np.exp(array_2d))\n",
        "\n",
        "\n",
        "\"\"\"\n",
        "B. np.power()\n",
        "\n",
        "   syntax: np.power(x,y)\n",
        "\n",
        "       It takes two arguments and both are arrays.\n",
        "       It computes x power y.\n",
        "\"\"\"\n",
        "#1d :\n",
        "print(\"\\none Dimensioanl Array:\")\n",
        "\n",
        "x = np.array([2,2,2,2])\n",
        "y = np.array([2,3,4,5])\n",
        "\n",
        "print(np.power(x,y))  #x power y\n",
        "print(np.power(y,y))  #y power y\n",
        "\n"
      ],
      "metadata": {
        "colab": {
          "base_uri": "https://localhost:8080/"
        },
        "collapsed": true,
        "id": "lA5RDpGX5svg",
        "outputId": "0c03e934-4b05-4092-bb7d-93d55d4b35a7"
      },
      "execution_count": null,
      "outputs": [
        {
          "output_type": "stream",
          "name": "stdout",
          "text": [
            "One Dimensional Array:\n",
            "[ 2.71828183  7.3890561  20.08553692 54.59815003]\n",
            "\n",
            "Two Dimensioanl Array:\n",
            "[[2.71828183e+00 7.38905610e+00 2.00855369e+01 5.45981500e+01]\n",
            " [1.48413159e+02 4.03428793e+02 1.09663316e+03 2.98095799e+03]]\n",
            "\n",
            "one Dimensioanl Array:\n",
            "[ 4  8 16 32]\n",
            "[   4   27  256 3125]\n"
          ]
        }
      ]
    },
    {
      "cell_type": "code",
      "source": [
        "#4. Rounding - It is used to clean up decimal numbers and format data for display or to work on it.\n",
        "\n",
        "x = np.array([1.23, 2.58, 3.5, -1.4, -2.6])\n",
        "\n",
        "#np.round() - rounds to the nearest value\n",
        "\n",
        "print(\"np.round():\")\n",
        "\n",
        "print(np.round(x))\n",
        "print(np.round(x,1))  #round up to one deciamal ..we can change how many decimals we want\n",
        "\n",
        "#np.floor() - It rounds down value\n",
        "\n",
        "print(\"\\nnp.round():\")\n",
        "print(np.round(x))\n",
        "\n",
        "#np.ceil() - It rounds up value\n",
        "\n",
        "print(\"\\nnp.ceil():\")\n",
        "print(np.ceil(x))\n",
        "\n",
        "#np.trunc() - It removes the decimals\n",
        "\n",
        "print(\"\\nnp.trunc()\")\n",
        "print(np.trunc(x))"
      ],
      "metadata": {
        "colab": {
          "base_uri": "https://localhost:8080/"
        },
        "id": "j8svfWgj85Im",
        "outputId": "d9bed4d2-62d7-43cb-9a0e-ac2223fcb8e7"
      },
      "execution_count": null,
      "outputs": [
        {
          "output_type": "stream",
          "name": "stdout",
          "text": [
            "np.round():\n",
            "[ 1.  3.  4. -1. -3.]\n",
            "[ 1.2  2.6  3.5 -1.4 -2.6]\n",
            "\n",
            "np.round():\n",
            "[ 1.  3.  4. -1. -3.]\n",
            "\n",
            "np.ceil():\n",
            "[ 2.  3.  4. -1. -2.]\n",
            "\n",
            "np.trunc()\n",
            "[ 1.  2.  3. -1. -2.]\n"
          ]
        }
      ]
    },
    {
      "cell_type": "markdown",
      "source": [
        "# Aggregate and Statistical Functions\n",
        "\n",
        "1. np.sum()\n",
        "\n",
        "   Adds all the elements in the array.\n",
        "\n",
        "2. np.mean()\n",
        "\n",
        "   It returns the average or mean of all the data in the array.\n",
        "\n",
        "3. np.median()\n",
        "\n",
        "   It returns median or central value of the array.\n",
        "  \n",
        "4. np.std()\n",
        "\n",
        "   Measures how much the values in your data vary from the average.\n",
        "\n",
        "5. np.var()\n",
        "\n",
        "   same as standard deivation but it's gives square of the std to calculate more easily with big values. std returns negative values. By squaring we get variance so we can easily calculate positive values.\n",
        "\n",
        "6. np.min()\n",
        "\n",
        "   It returns the minimum value from the array.\n",
        "\n",
        "7. np.max()\n",
        "\n",
        "   It returns the maximum value from tha array.\n",
        "\n",
        "8. np.argmin()\n",
        "\n",
        "   It returns the index value of minimum value in the array.\n",
        "\n",
        "9. np.argmax()\n",
        "\n",
        "   It returns the index value od maximum value in the array.\n",
        "\n",
        "10. np.percentile()\n",
        "   \n",
        "   Tells you the value below which a certain percentage of data falls.\n",
        "\n",
        "11. np.quantile\n",
        "\n",
        "   same as the percentile instead of whole value we use decimals.\n"
      ],
      "metadata": {
        "id": "iZ_YE6OW_Okq"
      }
    },
    {
      "cell_type": "code",
      "source": [
        "import numpy as np\n",
        "\n",
        "array = np.array([10,20,30,40,50,100])\n",
        "\n",
        "#np.sum()\n",
        "print(\"np.sum() : \",np.sum(array))\n",
        "\n",
        "#np.mean()\n",
        "print(\"np.mean() : \",np.mean(array))\n",
        "\n",
        "#np.median()\n",
        "print(\"np.median() : \",np.median(array))\n",
        "\n",
        "#np.std()\n",
        "print(\"np.std() : \",np.std(array))\n",
        "\n",
        "#np.var()\n",
        "print(\"np.var() : \",np.var(array))\n",
        "\n",
        "#np.min()\n",
        "print(\"np.min() : \",np.min(array))\n",
        "\n",
        "#np.max()\n",
        "print(\"np.max() : \",np.max(array))\n",
        "\n",
        "#np.argmin()\n",
        "print(\"np.argmin() : \",np.argmin(array))\n",
        "\n",
        "#np.argmax()\n",
        "print(\"np.argmax() : \",np.argmax(array))\n",
        "\n",
        "#np.percentile()\n",
        "print(\"np.percentile() : \",np.percentile(array,50))  #when comapring with 50\n",
        "\n",
        "#np.quantile()\n",
        "print(\"np.quantile() : \",np.quantile(array,0.5))    #0.5 = 50 same as percentile"
      ],
      "metadata": {
        "colab": {
          "base_uri": "https://localhost:8080/"
        },
        "collapsed": true,
        "id": "LdHPJzsjDOTT",
        "outputId": "08abec2c-db9e-4ce1-db0e-b7137d98f540"
      },
      "execution_count": null,
      "outputs": [
        {
          "output_type": "stream",
          "name": "stdout",
          "text": [
            "np.sum() :  250\n",
            "np.mean() :  41.666666666666664\n",
            "np.median() :  35.0\n",
            "np.std() :  29.1070819942883\n",
            "np.var() :  847.2222222222222\n",
            "np.min() :  10\n",
            "np.max() :  100\n",
            "np.argmin() :  0\n",
            "np.argmax() :  5\n",
            "np.percentile() :  35.0\n",
            "np.quantile() :  35.0\n"
          ]
        }
      ]
    },
    {
      "cell_type": "code",
      "source": [
        "#we can also perform these same operations with 2D arrays and more but specifiying the \"axis\".\n",
        "\n",
        "array = np.array([[1,2,3,4],\n",
        "                  [5,6,7,8],\n",
        "                  [9,10,11,12]])\n",
        "\n",
        "print(np.sum(array))       #It will give all the elements sum\n",
        "\n",
        "print(np.sum(array,axis=0))  #axis=0 is vertical [1+5+9=15 2+6+10=18 ......]\n",
        "\n",
        "print(np.sum(array,axis=1))  #axis=1 is horizonatal [1+2+3+4=10  5+6+7+8=26  ...]\n",
        "\n",
        "\n",
        "\n",
        "#we can perform all the operations as the same way\n"
      ],
      "metadata": {
        "colab": {
          "base_uri": "https://localhost:8080/"
        },
        "collapsed": true,
        "id": "rq6v7ytRHK90",
        "outputId": "36f187b9-7f37-45a2-ced5-994fb878d827"
      },
      "execution_count": null,
      "outputs": [
        {
          "output_type": "stream",
          "name": "stdout",
          "text": [
            "78\n",
            "[15 18 21 24]\n",
            "[10 26 42]\n"
          ]
        }
      ]
    },
    {
      "cell_type": "markdown",
      "source": [
        "# Broadcasting\n",
        "\n",
        "Broadcasting is NumPy’s way to perform operations on arrays of different shapes — without manually repeating data.\n",
        "\n",
        "It automatically “stretches” the smaller array along the missing dimensions to match the bigger array, so operations like addition, multiplication work smoothly.\n"
      ],
      "metadata": {
        "id": "fapy3I25MBKy"
      }
    },
    {
      "cell_type": "code",
      "source": [
        "# 1D+2D\n",
        "\n",
        "array_1d = np.array([1,2,3,4])\n",
        "array_2d = np.array([[10,11,12,13],[14,15,16,17]])\n",
        "\n",
        "print(np.add(array_1d,array_2d))  #In this the two arrays shape is not same but broadcasting makes the 1d array like [1,2,3,4],[1,2,3,4] to do operation.\n",
        "\n",
        "\n",
        "#scalar + array\n",
        "\n",
        "scalar = 10\n",
        "array = np.array([1,2,3,4])\n",
        "\n",
        "print(scalar+array)    #It converts scalar to [10,10,10,10] to match the 1D array.\n"
      ],
      "metadata": {
        "colab": {
          "base_uri": "https://localhost:8080/"
        },
        "id": "rRjV7OERMimL",
        "outputId": "9b318247-9700-4521-f4ef-c46a287664a1"
      },
      "execution_count": null,
      "outputs": [
        {
          "output_type": "stream",
          "name": "stdout",
          "text": [
            "[[11 13 15 17]\n",
            " [15 17 19 21]]\n",
            "[11 12 13 14]\n"
          ]
        }
      ]
    },
    {
      "cell_type": "markdown",
      "source": [
        "# Vectorization\n",
        "\n",
        "Vectorization means doing operations on whole arrays at once instead of using a loop to do element-by-element calculations.\n",
        "\n",
        "\n",
        "we can say np.sum(),np.mean(),etc are vectorization functions because they perform operation on whole array not elemet-wise."
      ],
      "metadata": {
        "id": "9pKmgPd9OrQR"
      }
    },
    {
      "cell_type": "code",
      "source": [
        "array = np.array([[1,2,3,],\n",
        "         [4,5,6]])\n",
        "\n",
        "print(array*2)       #we are calculating whole array at once without using loops"
      ],
      "metadata": {
        "colab": {
          "base_uri": "https://localhost:8080/"
        },
        "id": "iSMIxVjEO7Sp",
        "outputId": "103a35a0-579b-4173-8c90-8a967f33acd9"
      },
      "execution_count": null,
      "outputs": [
        {
          "output_type": "stream",
          "name": "stdout",
          "text": [
            "[[ 2  4  6]\n",
            " [ 8 10 12]]\n"
          ]
        }
      ]
    },
    {
      "cell_type": "markdown",
      "source": [
        "# Matrix Operations\n",
        "\n",
        "1. matrix multiplication : @ or np.dot()\n",
        "2. Determinant : np.linalg.det()\n",
        "3. Inverse : np.linalg.inv()\n",
        "4. Eigen values/vectors : np.linalg.eig()\n",
        "5. Solving Equations : np.linalg.solve()"
      ],
      "metadata": {
        "id": "bNnDdtTMBgqL"
      }
    },
    {
      "cell_type": "code",
      "source": [
        "\"\"\"\n",
        "1. Matrix Multiplication :\n",
        "\n",
        "It is to multiply both matrices and produce result matrix.\n",
        "The rule that the columns of first matrix must be equal to the seconnd matrix.\n",
        "We use  @ and np.dot() to find the multiplication of two matrices in numpy.\n",
        "\"\"\"\n",
        "\n",
        "import numpy as np\n",
        "\n",
        "matrix1 = np.array([[1,2,3],\n",
        "                    [4,5,6]])\n",
        "matrix2 = np.array([[1,2],\n",
        "                    [3,4],\n",
        "                    [5,6]])\n",
        "\n",
        "print(\"Result Matrix:\\n\",matrix1 @ matrix2)   #using @\n",
        "print(\"Result Matrix :\\n\",np.dot(matrix1,matrix2))  #using np.dot()"
      ],
      "metadata": {
        "colab": {
          "base_uri": "https://localhost:8080/"
        },
        "collapsed": true,
        "id": "y6olncmsBlio",
        "outputId": "c9426605-e492-4983-cf5e-2ffcd2dcf3be"
      },
      "execution_count": null,
      "outputs": [
        {
          "output_type": "stream",
          "name": "stdout",
          "text": [
            "Result Matrix:\n",
            " [[22 28]\n",
            " [49 64]]\n",
            "Result Matrix :\n",
            " [[22 28]\n",
            " [49 64]]\n"
          ]
        }
      ]
    },
    {
      "cell_type": "code",
      "source": [
        "\"\"\"\n",
        "2. Determinant\n",
        "The determinant is a special scalar value calculated from a square matrix. It tells you important things about the matrix.\n",
        "we use np.linalg.det() to calculate det.\n",
        "we can only apply for square matrices.\n",
        "\"\"\"\n",
        "matrix1 = np.array([[1,2,3],\n",
        "                   [4,5,6],\n",
        "                   [7,8,9]])\n",
        "matrix2 = np.array([[1,2],\n",
        "                    [3,4]])\n",
        "\n",
        "print(\"Araray 1 :\\n\",np.linalg.det(matrix1))\n",
        "print(\"Araray 2 :\\n\",np.linalg.det(matrix2))\n"
      ],
      "metadata": {
        "colab": {
          "base_uri": "https://localhost:8080/"
        },
        "collapsed": true,
        "id": "2pEcrx2MD41U",
        "outputId": "5c4079f4-6d4f-46c9-8447-fe6ae3826f37"
      },
      "execution_count": null,
      "outputs": [
        {
          "output_type": "stream",
          "name": "stdout",
          "text": [
            "Araray 1 :\n",
            " 0.0\n",
            "Araray 2 :\n",
            " -2.0000000000000004\n"
          ]
        }
      ]
    },
    {
      "cell_type": "code",
      "source": [
        "\"\"\"\n",
        "3. Inverse\n",
        "The inverse of a square matrix A is another matrix, denoted A⁻¹, such that when you multiply A by A⁻¹, you get the identity matrix:\n",
        "\n",
        "A×A⁻¹ = I\n",
        "The inverse “undoes” the transformation done by A. It exists only if A is square and has a non-zero determinant.\n",
        "We use np.linalg.inv() to find the inverse of the matrix.\n",
        "\n",
        "matrix1 = np.array([[1,2,3],\n",
        "                   [4,5,6],     It will give error because det is 0 . so no inevrse exists\n",
        "                   [7,8,9]])\n",
        "\"\"\"\n",
        "matrix2 = np.array([[1,2],\n",
        "                    [3,4]])\n",
        "\n",
        "print(\"Array 2:\\n\",np.linalg.inv(matrix2))"
      ],
      "metadata": {
        "colab": {
          "base_uri": "https://localhost:8080/"
        },
        "collapsed": true,
        "id": "iu3UwlspFY6c",
        "outputId": "6714c4f9-04fc-45ae-dcb1-c98849616907"
      },
      "execution_count": null,
      "outputs": [
        {
          "output_type": "stream",
          "name": "stdout",
          "text": [
            "Array 2:\n",
            " [[-2.   1. ]\n",
            " [ 1.5 -0.5]]\n"
          ]
        }
      ]
    },
    {
      "cell_type": "code",
      "source": [
        "\"\"\"\n",
        "#4. Egien values and Eigen vectors\n",
        "Eigenvalues: Scalars that show how much eigenvectors are stretched/shrunk by the matrix.\n",
        "\n",
        "Eigenvectors: Directions that don’t change under the transformation (except scaling).\n",
        "\"\"\"\n",
        "matrix1 = np.array([[1,2,3],\n",
        "                   [4,5,6],\n",
        "                   [7,8,9]])\n",
        "\n",
        "eigen_values,eigen_vectors = np.linalg.eig(matrix1)\n",
        "\n",
        "print(\"Eigen Values:\",eigen_values)\n",
        "print(\"Eigen Vectors : \",eigen_vectors)"
      ],
      "metadata": {
        "colab": {
          "base_uri": "https://localhost:8080/"
        },
        "collapsed": true,
        "id": "GwX9-G0XHwIG",
        "outputId": "83a38b25-2f55-49c7-d230-34c6156be306"
      },
      "execution_count": null,
      "outputs": [
        {
          "output_type": "stream",
          "name": "stdout",
          "text": [
            "Eigen Values: [ 1.61168440e+01 -1.11684397e+00 -1.30367773e-15]\n",
            "Eigen Vectors :  [[-0.23197069 -0.78583024  0.40824829]\n",
            " [-0.52532209 -0.08675134 -0.81649658]\n",
            " [-0.8186735   0.61232756  0.40824829]]\n"
          ]
        }
      ]
    },
    {
      "cell_type": "code",
      "source": [
        "\"\"\"\n",
        "5. solving Equations\n",
        "A matrix itself is not an equation, but when you use a matrix A to represent the coefficients of a system of linear equations, and a vector b to represent the constants on the right side, then you get an equation of the form:\n",
        "\n",
        "𝐴×𝑥=𝑏\n",
        "\n",
        "Here, A is the matrix of coefficients.\n",
        "x is the vector of unknown variables you want to find.\n",
        "b is the result vector.\n",
        "\"\"\"\n",
        "A = np.array([[3, 1],\n",
        "              [1, 2]])\n",
        "b = np.array([9, 8])\n",
        "\n",
        "x = np.linalg.solve(A, b)\n",
        "print(x)\n"
      ],
      "metadata": {
        "colab": {
          "base_uri": "https://localhost:8080/"
        },
        "id": "22v_f_kmI2au",
        "outputId": "3d33fb81-8cee-4b12-918a-35636b757bb3"
      },
      "execution_count": null,
      "outputs": [
        {
          "output_type": "stream",
          "name": "stdout",
          "text": [
            "[2. 3.]\n"
          ]
        }
      ]
    },
    {
      "cell_type": "markdown",
      "source": [
        "# Random Module\n",
        "Random module is a python module which provides functions to generate random numbers and random operation functions."
      ],
      "metadata": {
        "id": "IR-3MBHdKbJw"
      }
    },
    {
      "cell_type": "code",
      "source": [
        "\"\"\"\n",
        "1. np.random.rand() - It generates the random values between 0 and 1.\n",
        "\"\"\"\n",
        "array1 = np.random.rand(5)\n",
        "print(array1)\n",
        "array2 = np.random.rand(2,3)\n",
        "print(array2)"
      ],
      "metadata": {
        "colab": {
          "base_uri": "https://localhost:8080/"
        },
        "id": "aRj2KcBwKf54",
        "outputId": "30c2015d-f3d8-4d05-88a9-624e426cc5d3"
      },
      "execution_count": null,
      "outputs": [
        {
          "output_type": "stream",
          "name": "stdout",
          "text": [
            "[0.01431667 0.5766075  0.92859071 0.66182064 0.52240911]\n",
            "[[0.11243034 0.17707128 0.50603866]\n",
            " [0.55038141 0.1635477  0.37240508]]\n"
          ]
        }
      ]
    },
    {
      "cell_type": "code",
      "source": [
        "\"\"\"\n",
        "2. np.random.randn() - It generates the numbers near to 0 either positive or negative\n",
        "\"\"\"\n",
        "array1 = np.random.randn(5)\n",
        "print(array1)"
      ],
      "metadata": {
        "colab": {
          "base_uri": "https://localhost:8080/"
        },
        "id": "JbIvAR4iM2uT",
        "outputId": "6e0583c2-8a26-49fb-ef35-ac714ae168d1"
      },
      "execution_count": null,
      "outputs": [
        {
          "output_type": "stream",
          "name": "stdout",
          "text": [
            "[ 0.88176237  1.19656173 -0.51747458  2.51821879 -1.01875154]\n"
          ]
        }
      ]
    },
    {
      "cell_type": "code",
      "source": [
        "\"\"\"\n",
        "3. np.random.randint(start,stop,size) - It generates random numbers in a specified range.\n",
        "\"\"\"\n",
        "array = np.random.randint(10,100,(2,3))\n",
        "print(array)"
      ],
      "metadata": {
        "colab": {
          "base_uri": "https://localhost:8080/"
        },
        "id": "rMT2cHE7NH9v",
        "outputId": "7b3af016-3464-4b97-d65e-2d3405d772bf"
      },
      "execution_count": null,
      "outputs": [
        {
          "output_type": "stream",
          "name": "stdout",
          "text": [
            "[[48 35 25]\n",
            " [44 32 27]]\n"
          ]
        }
      ]
    },
    {
      "cell_type": "code",
      "source": [
        "\"\"\"\n",
        "4.np.rando.seed() -  np.random.seed() when you want predictable, repeatable random results.\n",
        "\"\"\"\n",
        "np.random.seed(42)\n",
        "array = np.random.randint(10,20,10)\n",
        "print(array)\n"
      ],
      "metadata": {
        "colab": {
          "base_uri": "https://localhost:8080/"
        },
        "id": "5g9p_KluNiAL",
        "outputId": "194be825-d0c7-40fb-8c5d-82f7affa5c35"
      },
      "execution_count": null,
      "outputs": [
        {
          "output_type": "stream",
          "name": "stdout",
          "text": [
            "[16 13 17 14 16 19 12 16 17 14]\n"
          ]
        }
      ]
    },
    {
      "cell_type": "code",
      "source": [
        "\"\"\"\n",
        "5. np.random.shuffle()  - we use it shuffle the elements in an array.\n",
        "\"\"\"\n",
        "array1 = np.array([1,2,3,4,5])\n",
        "np.random.shuffle(array1)\n",
        "print(\"array1 shuffled:\\n\",array1)\n",
        "\n",
        "array2 = np.array([[1,2,3],\n",
        "                   [4,5,6],   #It only shuffles rows for 2D and more dimensional matrices.\n",
        "                   [7,8,9]])\n",
        "np.random.shuffle(array2)\n",
        "print(\"array2 shuffled:\\n\",array2)"
      ],
      "metadata": {
        "colab": {
          "base_uri": "https://localhost:8080/"
        },
        "id": "L29q4apGOpiV",
        "outputId": "55f04a4d-03c9-4db9-8862-16653386fd73"
      },
      "execution_count": null,
      "outputs": [
        {
          "output_type": "stream",
          "name": "stdout",
          "text": [
            "array1 shuffled:\n",
            " [5 3 1 4 2]\n",
            "array2 shuffled:\n",
            " [[1 2 3]\n",
            " [7 8 9]\n",
            " [4 5 6]]\n"
          ]
        }
      ]
    },
    {
      "cell_type": "code",
      "source": [
        "\"\"\"\n",
        "6. np.random.choice() - it choose form a list of elements or a range.\n",
        "\"\"\"\n",
        "\n",
        "array = np.array([1,2,3,4,5])\n",
        "choice1 = np.random.choice(array,5)\n",
        "print(choice1)\n",
        "\n",
        "#sampling without replacement - It choose everytime a unique element.\n",
        "array2 = np.array([10,20,30,40,50])\n",
        "choice2 = np.random.choice(array2,4,replace=False)\n",
        "print(choice2)"
      ],
      "metadata": {
        "colab": {
          "base_uri": "https://localhost:8080/"
        },
        "id": "pVaSAg4dQIC-",
        "outputId": "d828f49a-e110-4480-c881-f2e1555133a4"
      },
      "execution_count": null,
      "outputs": [
        {
          "output_type": "stream",
          "name": "stdout",
          "text": [
            "[5 3 5 1 2]\n",
            "[50 30 20 10]\n"
          ]
        }
      ]
    },
    {
      "cell_type": "markdown",
      "source": [
        "# Set Opeartions\n",
        "\n",
        "There are several set operations in the numpy . They only work on 1D arrays. If we want to perform on 2D and more we need advance tricks.Outputs are sorted by default.\n",
        "\n",
        "1. np.unique()  - returns all the unique elemnts of an array\n",
        "2. np.intersect1d() - returns all the common elemnts in two arrays.\n",
        "3. np.union1d() - returns all the unique elements from both arrays.\n",
        "4. np.setdiff1d() - returns Difference of arrays like a-b or b-a  Difference.\n",
        "5. np.setxor1d() - returns all the elements which are not common in both arrays."
      ],
      "metadata": {
        "id": "mWDZgr98SU-C"
      }
    },
    {
      "cell_type": "code",
      "source": [
        "a = np.array([1,2,3,5])\n",
        "b = np.array([3,4,5,6])\n",
        "\n",
        "print(\"Union : \",np.unique(a))\n",
        "print(\"Intersection :\",np.intersect1d(a,b))\n",
        "print(\"Union :\",np.union1d(a,b))\n",
        "print(\"Difference a-b :\",np.setdiff1d(a,b))\n",
        "print(\"Difference b-a\",np.setdiff1d(b,a))\n",
        "print(\"XOR elements :\",np.setxor1d(a,b))"
      ],
      "metadata": {
        "colab": {
          "base_uri": "https://localhost:8080/"
        },
        "id": "MRLE6rxES0Xe",
        "outputId": "9f1b587f-b494-4252-8318-76d0e6db1b85"
      },
      "execution_count": null,
      "outputs": [
        {
          "output_type": "stream",
          "name": "stdout",
          "text": [
            "Union :  [1 2 3 5]\n",
            "Intersection : [3 5]\n",
            "Union : [1 2 3 4 5 6]\n",
            "Difference a-b : [1 2]\n",
            "Difference b-a [4 6]\n",
            "XOR elements : [1 2 4 6]\n"
          ]
        }
      ]
    },
    {
      "cell_type": "markdown",
      "source": [
        "# Joining Arrays\n",
        "We can join arrays with the help of following functions:\n",
        "\n",
        "1. np.concatenate()\n",
        "2. np.vstack()\n",
        "3. np.hstack()\n"
      ],
      "metadata": {
        "id": "miB0kelM4dkp"
      }
    },
    {
      "cell_type": "code",
      "source": [
        "\"\"\"\n",
        "1. np.concatenate() - It is used to join two arrays.\n",
        "\n",
        "Axis\t              You are joining...     \t      What must match\n",
        "\n",
        "0\t                     Adding rows\t                  Columns\n",
        "1\t                    Adding columns\t                  Rows\n",
        "\n",
        "If we want to add rows the columns size must match that is axis=0.\n",
        "If we want to add columns the rows size must match that is axis=1.\n",
        "\"\"\"\n",
        "\n",
        "\n",
        "#Adding rows\n",
        "import numpy as np\n",
        "\n",
        "a = np.array([[1,2],\n",
        "              [3,4],\n",
        "              [5,6]])\n",
        "\n",
        "b = np.array([[10,20],\n",
        "              [40,50]])\n",
        "\n",
        "print(np.concatenate((a,b),axis=0))\n",
        "\n",
        "\n",
        "#adding columns\n",
        "\n",
        "c = np.array([[1,2,3,4],\n",
        "              [5,6,7,8]])\n",
        "\n",
        "d = np.array([[10,20],\n",
        "              [30,40]])\n",
        "print(np.concatenate((c,d),axis=1))"
      ],
      "metadata": {
        "colab": {
          "base_uri": "https://localhost:8080/"
        },
        "collapsed": true,
        "id": "8j5vm7m34228",
        "outputId": "2af01283-0cee-425c-8d9a-5baf90ae7a55"
      },
      "execution_count": null,
      "outputs": [
        {
          "output_type": "stream",
          "name": "stdout",
          "text": [
            "[[ 1  2]\n",
            " [ 3  4]\n",
            " [ 5  6]\n",
            " [10 20]\n",
            " [40 50]]\n",
            "[[ 1  2  3  4 10 20]\n",
            " [ 5  6  7  8 30 40]]\n"
          ]
        }
      ]
    },
    {
      "cell_type": "code",
      "source": [
        "\"\"\"\n",
        "2.vstack() - It is a vertical stack this is default of axis=0 in concatenation. Here it stack the array one below another.\n",
        "              But it requires same number of columns.\n",
        "\"\"\"\n",
        "\n",
        "a = np.array([1,2,3,4])\n",
        "b = np.array([5,6,7,8])\n",
        "c = np.array([[1,2,3],\n",
        "              [4,5,6]])\n",
        "d = np.array([[1,2,3],\n",
        "              [4,5,6],\n",
        "              [7,8,9]])\n",
        "\n",
        "print(np.vstack((a,b)))\n",
        "print(np.vstack((c,d)))\n",
        "#print(np.vstack((a,c)))   It will raise error because columns doesn't match to stack.\n",
        "#print(np.vstack((b,d)))   It will raise error because columns doesn't match to stack."
      ],
      "metadata": {
        "colab": {
          "base_uri": "https://localhost:8080/"
        },
        "collapsed": true,
        "id": "V6t4ogV08Aex",
        "outputId": "db6abc58-0167-4298-bc21-943c427c0b1b"
      },
      "execution_count": null,
      "outputs": [
        {
          "output_type": "stream",
          "name": "stdout",
          "text": [
            "[[1 2 3 4]\n",
            " [5 6 7 8]]\n",
            "[[1 2 3]\n",
            " [4 5 6]\n",
            " [1 2 3]\n",
            " [4 5 6]\n",
            " [7 8 9]]\n"
          ]
        }
      ]
    },
    {
      "cell_type": "code",
      "source": [
        "\"\"\"\n",
        "3. np.hstack() -It is a Horozontal stack this is default of axis=1 in concatenation. Here it stack the array one after another horizonatlly.\n",
        "              But it requires same number of rows.\n",
        "\"\"\"\n",
        "a = np.array([1,2,3,4])\n",
        "b = np.array([5,6,7])\n",
        "\n",
        "c = np.array([[1,2,3],\n",
        "              [5,6,7]])\n",
        "d = np.array([[2,3,4,5,6],\n",
        "              [7,8,9,10,11]])\n",
        "\n",
        "print(np.hstack((a,b)))\n",
        "print(np.hstack((c,d)))\n",
        "#print(np.hstack((a,c)))  It will raise error because rows not matched."
      ],
      "metadata": {
        "colab": {
          "base_uri": "https://localhost:8080/"
        },
        "collapsed": true,
        "id": "v2kDo_xZ9Tn9",
        "outputId": "7133eb41-efbd-4c49-a85f-8bc1fe0bb487"
      },
      "execution_count": null,
      "outputs": [
        {
          "output_type": "stream",
          "name": "stdout",
          "text": [
            "[1 2 3 4 5 6 7]\n",
            "[[ 1  2  3  2  3  4  5  6]\n",
            " [ 5  6  7  7  8  9 10 11]]\n"
          ]
        }
      ]
    },
    {
      "cell_type": "markdown",
      "source": [
        "# Splitting Arrays   \n",
        "We can split arrays with the help of split functions. They are:\n",
        "\n",
        "1. np.split()\n",
        "2. np.array_split()\n",
        "3. np.vsplit()\n",
        "4. np.hsplit()"
      ],
      "metadata": {
        "id": "7UIKESdT-bc6"
      }
    },
    {
      "cell_type": "code",
      "source": [
        "\"\"\"\n",
        "1. np.split()  - It is used to split arrays into different sub arrays.\n",
        "\n",
        "syntax:   np.split(array, parts_or_indices, axis)\n",
        "\n",
        "          array - We have to give compatable array as the first argument\n",
        "          parts_or_indices - parts are no of arrays to form and indices use when we want to split arrays using indices\n",
        "          axis - we can split arrays vertically or horzonatlly . Default axis=0 (vertical)\n",
        "\"\"\"\n",
        "\n",
        "#1d :\n",
        "print(\"One dimensional:\")\n",
        "array = np.array([1,2,3,4,5,6,7,8,9,10])\n",
        "\n",
        "print(np.split(array,5))   #It splits the array to 5 sub-arrays\n",
        "#print(np.split(array,6))   It will raise error because array is not compatabile for 6 sub-arrays.\n",
        "\n",
        "print(np.split(array,[2,6]))   # It splits array at 2nd and 6th index\n",
        "\n",
        "\n",
        "\n",
        "#2d:\n",
        "print(\"Two dimensional:\")\n",
        "\n",
        "array2 = np.array([[1,2,3,4,5],\n",
        "                   [6,7,8,9,10],\n",
        "                   [11,12,13,14,15]])\n",
        "\n",
        "print(np.split(array2,5,axis=1))  #here axis=0 don't work because 5 sub arrays with 3 rows is not possible.\n",
        "print(np.split(array2,3))\n",
        "\n",
        "\n",
        "\n"
      ],
      "metadata": {
        "colab": {
          "base_uri": "https://localhost:8080/"
        },
        "collapsed": true,
        "id": "PHj_AJ17-0-Q",
        "outputId": "a4c36fff-9cb2-4d84-ccf0-e07c005c650a"
      },
      "execution_count": null,
      "outputs": [
        {
          "output_type": "stream",
          "name": "stdout",
          "text": [
            "One dimensional:\n",
            "[array([1, 2]), array([3, 4]), array([5, 6]), array([7, 8]), array([ 9, 10])]\n",
            "[array([1, 2]), array([3, 4, 5, 6]), array([ 7,  8,  9, 10])]\n",
            "Two dimensional:\n",
            "[array([[ 1],\n",
            "       [ 6],\n",
            "       [11]]), array([[ 2],\n",
            "       [ 7],\n",
            "       [12]]), array([[ 3],\n",
            "       [ 8],\n",
            "       [13]]), array([[ 4],\n",
            "       [ 9],\n",
            "       [14]]), array([[ 5],\n",
            "       [10],\n",
            "       [15]])]\n",
            "[array([[1, 2, 3, 4, 5]]), array([[ 6,  7,  8,  9, 10]]), array([[11, 12, 13, 14, 15]])]\n"
          ]
        }
      ]
    },
    {
      "cell_type": "code",
      "source": [
        "\"\"\"\n",
        "2. np.array_split() - unlike np.split() it allows uneven splits without any errors.\n",
        "\"\"\"\n",
        "array = np.array([1,2,3,4,5,5,6,7,8,9,10])\n",
        "\n",
        "print(np.array_split(array,5))  #It is common because it divides 5 sub-arrays with 2 elements each\n",
        "\n",
        "print(np.array_split(array,6))  #It is also possible with this function.\n",
        "\n",
        "\n",
        "array_2d = np.array([[1,2,3],\n",
        "                    [4,5,6],\n",
        "                    [7,8,9]])\n",
        "\n",
        "print(np.array_split(array_2d,2))   #It is also possible"
      ],
      "metadata": {
        "colab": {
          "base_uri": "https://localhost:8080/"
        },
        "collapsed": true,
        "id": "IsM67rvcEAxj",
        "outputId": "228d0488-d400-45ca-a8b1-272b7ead1b84"
      },
      "execution_count": null,
      "outputs": [
        {
          "output_type": "stream",
          "name": "stdout",
          "text": [
            "[array([1, 2, 3]), array([4, 5]), array([5, 6]), array([7, 8]), array([ 9, 10])]\n",
            "[array([1, 2]), array([3, 4]), array([5, 5]), array([6, 7]), array([8, 9]), array([10])]\n",
            "[array([[1, 2, 3],\n",
            "       [4, 5, 6]]), array([[7, 8, 9]])]\n"
          ]
        }
      ]
    },
    {
      "cell_type": "code",
      "source": [
        "\"\"\"\n",
        "3. np.vsplit() - It is to split array into sub-arrays vertically. The rows must be compatable.\n",
        "\"\"\"\n",
        "\n",
        "array = np.array([[1,2,3,4],\n",
        "                 [4,5,6,4],\n",
        "                 [7,8,9,4]])\n",
        "\n",
        "print(np.vsplit(array,3))  #but here(array,4) is not possible because it is uneven to split vertically.\n"
      ],
      "metadata": {
        "colab": {
          "base_uri": "https://localhost:8080/"
        },
        "id": "WQyTzI41Ehdy",
        "outputId": "018351c9-43d7-49cd-f08f-7de96adffd05"
      },
      "execution_count": null,
      "outputs": [
        {
          "output_type": "stream",
          "name": "stdout",
          "text": [
            "[array([[1, 2, 3, 4]]), array([[4, 5, 6, 4]]), array([[7, 8, 9, 4]])]\n"
          ]
        }
      ]
    },
    {
      "cell_type": "code",
      "source": [
        "\"\"\"\n",
        "4. np.hsplit() - It is to split array into sub-arrays horizontally. The columns must be compatable.\n",
        "\"\"\"\n",
        "\n",
        "array = np.array([[1,2,3,4],\n",
        "                 [4,5,6,4],\n",
        "                 [7,8,9,4]])\n",
        "\n",
        "print(np.hsplit(array,4))    # but here (array,3) is not possible because it is uneven to split horizontally."
      ],
      "metadata": {
        "colab": {
          "base_uri": "https://localhost:8080/"
        },
        "id": "3Jw7Wo0-HClo",
        "outputId": "a43316d8-0552-4aa4-889e-75e0b26dfac0"
      },
      "execution_count": null,
      "outputs": [
        {
          "output_type": "stream",
          "name": "stdout",
          "text": [
            "[array([[1],\n",
            "       [4],\n",
            "       [7]]), array([[2],\n",
            "       [5],\n",
            "       [8]]), array([[3],\n",
            "       [6],\n",
            "       [9]]), array([[4],\n",
            "       [4],\n",
            "       [4]])]\n"
          ]
        }
      ]
    },
    {
      "cell_type": "markdown",
      "source": [
        "# Shallow Copy Vs Deep Copy\n",
        "                                                                "
      ],
      "metadata": {
        "id": "GnrYNFwwIfTM"
      }
    },
    {
      "cell_type": "code",
      "source": [
        "\"\"\"\n",
        "Shallow copy                                                                    Deep Copy\n",
        "\n",
        "1. It doesn't creayes new array.                                                1. It creates new array.\n",
        "2. we can use assignembt operator to shallow copy (a = b).                      2. We use copy() function for deep copy (b = a.copy()).\n",
        "3. Here 'a' and 'b' has same memory.                                            3. Here 'a' and 'b' has different memory.\n",
        "4. Changes in 'b' will change 'a' also.                                         4. changes in 'b' doesn't affect 'a'.\n",
        "\n",
        "\"\"\"\n",
        "#shallow copy\n",
        "a = np.array([1,2,3,4,5])\n",
        "b = a\n",
        "b[1] = 10    #It changes in 'a' also because they share same memory\n",
        "print(b)\n",
        "print(a)\n",
        "\n",
        "\n",
        "#deep copy\n",
        "deep_a = np.array([1,2,3,4,5])\n",
        "deep_b = a.copy()\n",
        "deep_b[1] = 10\n",
        "print(deep_a) #It doesn't change because they share different memory\n",
        "print(deep_b)"
      ],
      "metadata": {
        "colab": {
          "base_uri": "https://localhost:8080/"
        },
        "id": "ww0nQomFI0Qe",
        "outputId": "6e2eeca5-0879-432d-e58d-73d1173c6d4a"
      },
      "execution_count": null,
      "outputs": [
        {
          "output_type": "stream",
          "name": "stdout",
          "text": [
            "[ 1 10  3  4  5]\n",
            "[ 1 10  3  4  5]\n",
            "[1 2 3 4 5]\n",
            "[ 1 10  3  4  5]\n"
          ]
        }
      ]
    },
    {
      "cell_type": "markdown",
      "source": [
        "# Handling Missing Values\n",
        "\n",
        "A missing value is just a blank or unknown value in your data.We can handle missing data in the arrays using numpy.\n",
        "\n"
      ],
      "metadata": {
        "id": "wY0cRE97Ns_z"
      }
    },
    {
      "cell_type": "code",
      "source": [
        "# 1. np.nan - nan is a \"not a number\". It is a special floating-point used to represent missing, undefined, not-valid valuesa\n",
        "\n",
        "import numpy as np\n",
        "data =  np.array([[1,2,np.nan],\n",
        "                  [4,np.nan,6],\n",
        "                  [np.nan,8,9]])\n",
        "print(data)\n",
        "print(np.sum(data))  #It will give \"nan\" as output this is the problem.\n",
        "\n",
        "#we can do aggreagte functions with nan.\n",
        "print(np.nansum(data))\n",
        "print(np.nanmean(data))\n",
        "#etc\n",
        "\n",
        "print(type(np.nan))  #It's a float data type"
      ],
      "metadata": {
        "colab": {
          "base_uri": "https://localhost:8080/"
        },
        "collapsed": true,
        "id": "HIFpCFTFiHM1",
        "outputId": "6d8b332e-4ba2-4492-bc21-eabd14300054"
      },
      "execution_count": 6,
      "outputs": [
        {
          "output_type": "stream",
          "name": "stdout",
          "text": [
            "[[ 1.  2. nan]\n",
            " [ 4. nan  6.]\n",
            " [nan  8.  9.]]\n",
            "nan\n",
            "30.0\n",
            "5.0\n",
            "<class 'float'>\n"
          ]
        }
      ]
    },
    {
      "cell_type": "code",
      "source": [
        "#2. np.isnan() - It checks the \"nan\" is in the array or not. If it is it retuens true otherwise false.output is boolean array.\n",
        "data =  np.array([[1,2,np.nan],\n",
        "                  [4,np.nan,6],\n",
        "                  [np.nan,8,9]])\n",
        "\n",
        "mask = np.isnan(data)\n",
        "print(mask)"
      ],
      "metadata": {
        "colab": {
          "base_uri": "https://localhost:8080/"
        },
        "id": "m24Kom7bkPsG",
        "outputId": "49bb46a9-95f9-40d8-add4-33e2d95347a9"
      },
      "execution_count": 7,
      "outputs": [
        {
          "output_type": "stream",
          "name": "stdout",
          "text": [
            "[[False False  True]\n",
            " [False  True False]\n",
            " [ True False False]]\n"
          ]
        }
      ]
    },
    {
      "cell_type": "code",
      "source": [
        "#3. np.inf and -np.inf - same as np.nan but these infinite values. np.inf = infinity and np.-inf = - infinity  .....like 1/0 and -1\\0 etc will produce\n",
        "\n",
        "data = np.array([[1,2,np.inf],\n",
        "                 [np.nan,5,6],\n",
        "                 [-np.inf,8,9]])\n",
        "print(data)\n"
      ],
      "metadata": {
        "colab": {
          "base_uri": "https://localhost:8080/"
        },
        "id": "7Q1gtYXCtQ5W",
        "outputId": "b76cfcee-5253-491f-cee3-6bea461701f3"
      },
      "execution_count": 8,
      "outputs": [
        {
          "output_type": "stream",
          "name": "stdout",
          "text": [
            "[[  1.   2.  inf]\n",
            " [ nan   5.   6.]\n",
            " [-inf   8.   9.]]\n"
          ]
        }
      ]
    },
    {
      "cell_type": "code",
      "source": [
        "#4.  np.nan_to_num() - we can replace nan to any nuber also inf values but optional.\n",
        "\n",
        "data = np.array([[1,2,np.inf],\n",
        "                 [np.nan,5,6],\n",
        "                 [-np.inf,8,9]])\n",
        "\n",
        "result_data = np.nan_to_num(data,nan=10,posinf=99,neginf=-99)\n",
        "\n",
        "print(result_data)"
      ],
      "metadata": {
        "colab": {
          "base_uri": "https://localhost:8080/"
        },
        "id": "Zwzntt2vuoqi",
        "outputId": "105090b0-b4f0-4a6c-8789-7f2caedac671"
      },
      "execution_count": 9,
      "outputs": [
        {
          "output_type": "stream",
          "name": "stdout",
          "text": [
            "[[  1.   2.  99.]\n",
            " [ 10.   5.   6.]\n",
            " [-99.   8.   9.]]\n"
          ]
        }
      ]
    },
    {
      "cell_type": "code",
      "source": [
        "#5. Masking - maksing is selecting elements based on the condition. We use masking to ignore nan values. so,we can perform on good data.\n",
        "\n",
        "#step-1 : Find the missing values\n",
        "#step-2 : mask them with the help of np.isnan() function.\n",
        "#step-3 : now get the valid data from the mask using operator ~\n",
        "#step-4 : perform opertions on valid data.\n",
        "\n",
        "data = np.array([[1,2,3],\n",
        "                 [np.nan,5,np.nan],\n",
        "                 [np.nan,8,9]])\n",
        "\n",
        "mask = np.isnan(data)\n",
        "\n",
        "valid_data = data[~mask]\n",
        "\n",
        "print(valid_data)"
      ],
      "metadata": {
        "colab": {
          "base_uri": "https://localhost:8080/"
        },
        "id": "Ne1my2O0wPJH",
        "outputId": "9ba3ed32-b549-4d65-a91b-5f8dfdcc8d7a"
      },
      "execution_count": 11,
      "outputs": [
        {
          "output_type": "stream",
          "name": "stdout",
          "text": [
            "[1. 2. 3. 5. 8. 9.]\n"
          ]
        }
      ]
    },
    {
      "cell_type": "markdown",
      "source": [
        "# Memory layout\n",
        "\n",
        "\n",
        "\n",
        "*   memory layout means how numpy arranges the multi-dimensional arrays in the memory.\n",
        "*   Numpy arranges the multi-dimensionals in the form of 1D array in memory.\n",
        "*   There are two types:\n",
        "     \n",
        "\n",
        "1.   'C' layout - It's a C-style order It considers rows as major.rows are stored together.\n",
        "2.   'F' layout - It's a Fortran-style order It considers columns as major. Columns are stored together.\n"
      ],
      "metadata": {
        "id": "yTRvEvMxyNmD"
      }
    },
    {
      "cell_type": "code",
      "source": [
        "#Example for 'C' and 'F' style\n",
        "\n",
        "array = np.array([[1,2,3],\n",
        "                  [4,5,6],\n",
        "                  [7,8,9]])\n",
        "\n",
        "#C - style\n",
        "print(\"C style:\\n\",array.ravel(order='c'))\n",
        "\n",
        "#F - style\n",
        "print(\"F Style:\\n\",array.ravel(order='F'))"
      ],
      "metadata": {
        "colab": {
          "base_uri": "https://localhost:8080/"
        },
        "id": "zuPyP4g5zb-k",
        "outputId": "141e2f33-2ef7-4ea7-e79e-a6d81439e75f"
      },
      "execution_count": 12,
      "outputs": [
        {
          "output_type": "stream",
          "name": "stdout",
          "text": [
            "C style:\n",
            " [1 2 3 4 5 6 7 8 9]\n",
            "F Style:\n",
            " [1 4 7 2 5 8 3 6 9]\n"
          ]
        }
      ]
    }
  ],
  "metadata": {
    "colab": {
      "provenance": []
    },
    "kernelspec": {
      "display_name": "Python 3",
      "name": "python3"
    },
    "language_info": {
      "name": "python"
    }
  },
  "nbformat": 4,
  "nbformat_minor": 0
}